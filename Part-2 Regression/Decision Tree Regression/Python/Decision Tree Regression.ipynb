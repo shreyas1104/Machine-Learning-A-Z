{
 "cells": [
  {
   "cell_type": "markdown",
   "id": "d5c681db",
   "metadata": {},
   "source": [
    "Data Preprocessing"
   ]
  },
  {
   "cell_type": "code",
   "execution_count": 4,
   "id": "e129af85",
   "metadata": {},
   "outputs": [],
   "source": [
    "import numpy as np\n",
    "import matplotlib.pyplot as plt\n",
    "import pandas as pd\n",
    "%matplotlib inline\n",
    "import warnings\n",
    "warnings.filterwarnings('ignore')\n",
    "\n",
    "dataset = pd.read_csv('Position_Salaries.csv')\n",
    "# we only take second column i.e Level which corresponds to the Position\n",
    "X = dataset.iloc[:, -2].values\n",
    "y = dataset.iloc[:, -1].values\n",
    "\n",
    "# need to convert X and y to 2D array since the feature scaling function expects a 2D array as input\n",
    "X = X.reshape(-1,1)\n",
    "y = y.reshape(-1,1)\n",
    "\n",
    "# no need for feature-scaling for this model\n",
    "# might need to add missing data, encoding based on dataset (but not required for this)"
   ]
  },
  {
   "cell_type": "markdown",
   "id": "f14921c2",
   "metadata": {},
   "source": [
    "---"
   ]
  },
  {
   "cell_type": "markdown",
   "id": "1fdd32b4",
   "metadata": {},
   "source": [
    "Training the Decision Tree Regression model on the whole set"
   ]
  },
  {
   "cell_type": "code",
   "execution_count": 6,
   "id": "ff6172f2",
   "metadata": {},
   "outputs": [
    {
     "data": {
      "text/plain": [
       "DecisionTreeRegressor(random_state=0)"
      ]
     },
     "execution_count": 6,
     "metadata": {},
     "output_type": "execute_result"
    }
   ],
   "source": [
    "from sklearn.tree import DecisionTreeRegressor\n",
    "\n",
    "# we set random_state to 0 since we want to get the same result at the end\n",
    "regressor = DecisionTreeRegressor(random_state=0)\n",
    "regressor.fit(X, y)"
   ]
  },
  {
   "cell_type": "markdown",
   "id": "123f0bd7",
   "metadata": {},
   "source": [
    "---"
   ]
  },
  {
   "cell_type": "markdown",
   "id": "7e9ab5ad",
   "metadata": {},
   "source": [
    "Predicting a new result"
   ]
  },
  {
   "cell_type": "code",
   "execution_count": 12,
   "id": "ebd7295a",
   "metadata": {},
   "outputs": [
    {
     "name": "stdout",
     "output_type": "stream",
     "text": [
      "[150000.]\n"
     ]
    }
   ],
   "source": [
    "y_pred = regressor.predict([[6.5]])\n",
    "print(y_pred)\n",
    "\n",
    "# not the best model to implement on single feature variable, single dependent variable dataset"
   ]
  },
  {
   "cell_type": "markdown",
   "id": "8bf7b51d",
   "metadata": {},
   "source": [
    "---"
   ]
  },
  {
   "cell_type": "markdown",
   "id": "d209c8b6",
   "metadata": {},
   "source": [
    "Visualizing the Decision Tree Regression results (high resolution)"
   ]
  },
  {
   "cell_type": "code",
   "execution_count": 15,
   "id": "b63b6dc7",
   "metadata": {},
   "outputs": [
    {
     "data": {
      "image/png": "[encoded data removed]",
      "text/plain": [
       "<Figure size 432x288 with 1 Axes>"
      ]
     },
     "metadata": {
      "needs_background": "light"
     },
     "output_type": "display_data"
    }
   ],
   "source": [
    "# cannot plot when we have more than one feature variable since the plot will not be 2D anymore\n",
    "\n",
    "# X_grid will have the min to max of actual X values at an interval of 0.1 ie. 0, 0.1, 0.2.... 9.8, 9.9, 10\n",
    "X_grid = np.arange(min(X), max(X), 0.1)\n",
    "X_grid = X_grid.reshape(-1,1)\n",
    "\n",
    "plt.scatter(X, y, color='red')\n",
    "plt.plot(X_grid, regressor.predict(X_grid), color='blue')\n",
    "\n",
    "plt.title('Salary vs Level- Decision Tree Regression')\n",
    "plt.xlabel('Level')\n",
    "plt.ylabel('Salary')\n",
    "plt.show()"
   ]
  },
  {
   "cell_type": "code",
   "execution_count": null,
   "id": "13022e8c",
   "metadata": {},
   "outputs": [],
   "source": []
  }
 ],
 "metadata": {
  "kernelspec": {
   "display_name": "Python 3",
   "language": "python",
   "name": "python3"
  },
  "language_info": {
   "codemirror_mode": {
    "name": "ipython",
    "version": 3
   },
   "file_extension": ".py",
   "mimetype": "text/x-python",
   "name": "python",
   "nbconvert_exporter": "python",
   "pygments_lexer": "ipython3",
   "version": "3.8.8"
  }
 },
 "nbformat": 4,
 "nbformat_minor": 5
}
