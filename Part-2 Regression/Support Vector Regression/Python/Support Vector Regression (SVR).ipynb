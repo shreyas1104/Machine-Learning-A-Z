{
 "cells": [
  {
   "cell_type": "markdown",
   "id": "987a4d91",
   "metadata": {},
   "source": [
    "Data Preprocessing"
   ]
  },
  {
   "cell_type": "code",
   "execution_count": 36,
   "id": "44cd6dd6",
   "metadata": {},
   "outputs": [
    {
     "name": "stdout",
     "output_type": "stream",
     "text": [
      "[[-1.5666989 ]\n",
      " [-1.21854359]\n",
      " [-0.87038828]\n",
      " [-0.52223297]\n",
      " [-0.17407766]\n",
      " [ 0.17407766]\n",
      " [ 0.52223297]\n",
      " [ 0.87038828]\n",
      " [ 1.21854359]\n",
      " [ 1.5666989 ]]\n",
      "[[-0.72004253]\n",
      " [-0.70243757]\n",
      " [-0.66722767]\n",
      " [-0.59680786]\n",
      " [-0.49117815]\n",
      " [-0.35033854]\n",
      " [-0.17428902]\n",
      " [ 0.17781001]\n",
      " [ 0.88200808]\n",
      " [ 2.64250325]]\n"
     ]
    }
   ],
   "source": [
    "import numpy as np\n",
    "import matplotlib.pyplot as plt\n",
    "import pandas as pd\n",
    "%matplotlib inline\n",
    "import warnings\n",
    "warnings.filterwarnings('ignore')\n",
    "\n",
    "dataset = pd.read_csv('Position_Salaries.csv')\n",
    "# we only take second column i.e Level which corresponds to the Position\n",
    "X = dataset.iloc[:, -2].values\n",
    "y = dataset.iloc[:, -1].values\n",
    "\n",
    "# need to convert X and y to 2D array since the feature scaling function expects a 2D array as input\n",
    "X = X.reshape(-1,1)\n",
    "y = y.reshape(-1,1)\n",
    "\n",
    "# we have to apply feature since there is an implicit relation bw feature variables & dependent variables\n",
    "# the levels go from 1 to 10 and we need to bring it to a common scale\n",
    "# we will apply scaling on both feature and dependent variables\n",
    "# we create two obj of StandardScalar class since the mean and SD wil vary for both columns\n",
    "from sklearn.preprocessing import StandardScaler\n",
    "sc_X = StandardScaler()\n",
    "sc_y = StandardScaler()\n",
    "X = sc_X.fit_transform(X)\n",
    "y = sc_y.fit_transform(y)\n",
    "\n",
    "print(X)         # values bw -2 and +2\n",
    "print(y)         # values bw -1 and +3\n",
    "\n",
    "# we do not split into training and test set since data is less and we want to include most of it for training\n",
    "# we will the model later to predict salary for a random level value"
   ]
  },
  {
   "cell_type": "markdown",
   "id": "d87b2356",
   "metadata": {},
   "source": [
    "---"
   ]
  },
  {
   "cell_type": "markdown",
   "id": "93fbd276",
   "metadata": {},
   "source": [
    "Training SVR model on the whole set"
   ]
  },
  {
   "cell_type": "code",
   "execution_count": 20,
   "id": "b9f1205d",
   "metadata": {},
   "outputs": [
    {
     "data": {
      "text/plain": [
       "SVR()"
      ]
     },
     "execution_count": 20,
     "metadata": {},
     "output_type": "execute_result"
    }
   ],
   "source": [
    "from sklearn.svm import SVR\n",
    "\n",
    "# we use radial basis function kernel, since our dataset has non-linear relationship (read more about these)\n",
    "regressor = SVR(kernel='rbf')\n",
    "regressor.fit(X, y)"
   ]
  },
  {
   "cell_type": "markdown",
   "id": "65cdba84",
   "metadata": {},
   "source": [
    "---"
   ]
  },
  {
   "cell_type": "markdown",
   "id": "7df6d240",
   "metadata": {},
   "source": [
    "Predicting a new result"
   ]
  },
  {
   "cell_type": "code",
   "execution_count": 25,
   "id": "6ab0b451",
   "metadata": {},
   "outputs": [
    {
     "name": "stdout",
     "output_type": "stream",
     "text": [
      "[170370.0204065]\n"
     ]
    }
   ],
   "source": [
    "# we need to transform 6.5 using sc_X to get it on the same scale\n",
    "svr_pred_scaled = regressor.predict(sc_X.transform([[6.5]]))\n",
    "\n",
    "# we need to inversely transform the scaled predicted y(salary) using sc_y\n",
    "svr_pred = sc_y.inverse_transform(svr_pred_scaled)\n",
    "print(svr_pred)"
   ]
  },
  {
   "cell_type": "markdown",
   "id": "1a652fc5",
   "metadata": {},
   "source": [
    "---"
   ]
  },
  {
   "cell_type": "markdown",
   "id": "927c598c",
   "metadata": {},
   "source": [
    "Visualizing the SVR results"
   ]
  },
  {
   "cell_type": "code",
   "execution_count": 34,
   "id": "11de2360",
   "metadata": {},
   "outputs": [
    {
     "data": {
      "image/png": "[encoded data removed]",
      "text/plain": [
       "<Figure size 432x288 with 1 Axes>"
      ]
     },
     "metadata": {
      "needs_background": "light"
     },
     "output_type": "display_data"
    }
   ],
   "source": [
    "# we inversely transform X and y to get actual/real values on the graph and not the scaled ones\n",
    "plt.scatter(sc_X.inverse_transform(X), sc_y.inverse_transform(y), color='red')\n",
    "\n",
    "# we get scaled values in terms of sc_y from regressor.predict(), so we need to inversely transform them to get actual y values\n",
    "plt.plot(sc_X.inverse_transform(X), sc_y.inverse_transform(regressor.predict(X)), color='blue')\n",
    "\n",
    "plt.title('Salary vs Level- SVR')\n",
    "plt.xlabel('Level')\n",
    "plt.ylabel('Salary')\n",
    "plt.show()"
   ]
  },
  {
   "cell_type": "markdown",
   "id": "a35f9500",
   "metadata": {},
   "source": [
    "Visualizing the SVR results for a higher resolution"
   ]
  },
  {
   "cell_type": "code",
   "execution_count": 43,
   "id": "d51107cf",
   "metadata": {},
   "outputs": [
    {
     "data": {
      "image/png": "[encoded data removed]",
      "text/plain": [
       "<Figure size 432x288 with 1 Axes>"
      ]
     },
     "metadata": {
      "needs_background": "light"
     },
     "output_type": "display_data"
    }
   ],
   "source": [
    "# X_grid will have the min to max of actual X values at an interval of 0.1 ie. 0, 0.1, 0.2.... 9.8, 9.9, 10\n",
    "X_grid = np.arange(min(sc_X.inverse_transform(X)), max(sc_X.inverse_transform(X)), 0.1)\n",
    "X_grid = X_grid.reshape(-1,1)\n",
    "\n",
    "plt.scatter(sc_X.inverse_transform(X), sc_y.inverse_transform(y), color='red')\n",
    "\n",
    "# we need scale X_grid back with sc_X since we had inversely transformed earlier\n",
    "plt.plot(X_grid, sc_y.inverse_transform(regressor.predict(sc_X.transform(X_grid))), color='blue')\n",
    "\n",
    "plt.title('Salary vs Level- SVR')\n",
    "plt.xlabel('Level')\n",
    "plt.ylabel('Salary')\n",
    "plt.show()"
   ]
  },
  {
   "cell_type": "code",
   "execution_count": null,
   "id": "b31ab2cf",
   "metadata": {},
   "outputs": [],
   "source": []
  }
 ],
 "metadata": {
  "kernelspec": {
   "display_name": "Python 3",
   "language": "python",
   "name": "python3"
  },
  "language_info": {
   "codemirror_mode": {
    "name": "ipython",
    "version": 3
   },
   "file_extension": ".py",
   "mimetype": "text/x-python",
   "name": "python",
   "nbconvert_exporter": "python",
   "pygments_lexer": "ipython3",
   "version": "3.8.8"
  }
 },
 "nbformat": 4,
 "nbformat_minor": 5
}
