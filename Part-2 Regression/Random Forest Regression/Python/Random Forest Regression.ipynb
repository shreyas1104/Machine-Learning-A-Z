{
 "cells": [
  {
   "cell_type": "markdown",
   "id": "51ab848f",
   "metadata": {},
   "source": [
    "Data Preprocessing"
   ]
  },
  {
   "cell_type": "code",
   "execution_count": 1,
   "id": "3c20d726",
   "metadata": {},
   "outputs": [],
   "source": [
    "import numpy as np\n",
    "import matplotlib.pyplot as plt\n",
    "import pandas as pd\n",
    "%matplotlib inline\n",
    "import warnings\n",
    "warnings.filterwarnings('ignore')\n",
    "\n",
    "dataset = pd.read_csv('Position_Salaries.csv')\n",
    "# we only take second column i.e Level which corresponds to the Position\n",
    "X = dataset.iloc[:, -2].values\n",
    "y = dataset.iloc[:, -1].values\n",
    "\n",
    "# need to convert X and y to 2D array since the feature scaling function expects a 2D array as input\n",
    "X = X.reshape(-1,1)\n",
    "y = y.reshape(-1,1)\n",
    "\n",
    "# no need for feature-scaling for this model\n",
    "# might need to add missing data, encoding based on dataset (but not required for this)"
   ]
  },
  {
   "cell_type": "markdown",
   "id": "84bd0a6c",
   "metadata": {},
   "source": [
    "---"
   ]
  },
  {
   "cell_type": "markdown",
   "id": "4c66dc50",
   "metadata": {},
   "source": [
    "Training the Random Forest Regression model on the whole set"
   ]
  },
  {
   "cell_type": "code",
   "execution_count": 7,
   "id": "70f6eb6a",
   "metadata": {},
   "outputs": [
    {
     "data": {
      "text/plain": [
       "RandomForestRegressor(n_estimators=10, random_state=0)"
      ]
     },
     "execution_count": 7,
     "metadata": {},
     "output_type": "execute_result"
    }
   ],
   "source": [
    "from sklearn.ensemble import RandomForestRegressor\n",
    "\n",
    "# n_estimators tells us the no. of trees we want to choose\n",
    "# we set random_state to 0 since we want to get the same result at the end\n",
    "regressor = RandomForestRegressor(random_state=0, n_estimators=10)\n",
    "regressor.fit(X, y)"
   ]
  },
  {
   "cell_type": "markdown",
   "id": "c31501cf",
   "metadata": {},
   "source": [
    "---"
   ]
  },
  {
   "cell_type": "markdown",
   "id": "820ba296",
   "metadata": {},
   "source": [
    "Predicting a new result"
   ]
  },
  {
   "cell_type": "code",
   "execution_count": 8,
   "id": "d91d3662",
   "metadata": {},
   "outputs": [
    {
     "name": "stdout",
     "output_type": "stream",
     "text": [
      "[167000.]\n"
     ]
    }
   ],
   "source": [
    "y_pred = regressor.predict([[6.5]])\n",
    "print(y_pred)"
   ]
  },
  {
   "cell_type": "markdown",
   "id": "0b7a2285",
   "metadata": {},
   "source": [
    "---"
   ]
  },
  {
   "cell_type": "markdown",
   "id": "f05443ef",
   "metadata": {},
   "source": [
    "Visualizing the Random Forest Regression results (high resolution)"
   ]
  },
  {
   "cell_type": "code",
   "execution_count": 10,
   "id": "5095d8f6",
   "metadata": {},
   "outputs": [
    {
     "data": {
      "image/png": "[encoded data removed]",
      "text/plain": [
       "<Figure size 432x288 with 1 Axes>"
      ]
     },
     "metadata": {
      "needs_background": "light"
     },
     "output_type": "display_data"
    }
   ],
   "source": [
    "# cannot plot when we have more than one feature variable since the plot will not be 2D anymore\n",
    "\n",
    "# X_grid will have the min to max of actual X values at an interval of 0.1 ie. 0, 0.1, 0.2.... 9.8, 9.9, 10\n",
    "X_grid = np.arange(min(X), max(X), 0.1)\n",
    "X_grid = X_grid.reshape(-1,1)\n",
    "\n",
    "plt.scatter(X, y, color='red')\n",
    "plt.plot(X_grid, regressor.predict(X_grid), color='blue')\n",
    "\n",
    "plt.title('Salary vs Level- Random Forest Regression')\n",
    "plt.xlabel('Level')\n",
    "plt.ylabel('Salary')\n",
    "plt.show()\n",
    "\n",
    "# more steps than Decision Tree since we have n trees which results in more splits"
   ]
  },
  {
   "cell_type": "code",
   "execution_count": null,
   "id": "7e2c5adc",
   "metadata": {},
   "outputs": [],
   "source": []
  }
 ],
 "metadata": {
  "kernelspec": {
   "display_name": "Python 3",
   "language": "python",
   "name": "python3"
  },
  "language_info": {
   "codemirror_mode": {
    "name": "ipython",
    "version": 3
   },
   "file_extension": ".py",
   "mimetype": "text/x-python",
   "name": "python",
   "nbconvert_exporter": "python",
   "pygments_lexer": "ipython3",
   "version": "3.8.8"
  }
 },
 "nbformat": 4,
 "nbformat_minor": 5
}
