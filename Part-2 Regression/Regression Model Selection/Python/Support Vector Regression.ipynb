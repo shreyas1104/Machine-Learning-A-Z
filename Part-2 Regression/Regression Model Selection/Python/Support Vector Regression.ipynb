{
 "cells": [
  {
   "cell_type": "markdown",
   "id": "987a4d91",
   "metadata": {},
   "source": [
    "Data Preprocessing"
   ]
  },
  {
   "cell_type": "code",
   "execution_count": 1,
   "id": "18ecf84b",
   "metadata": {},
   "outputs": [],
   "source": [
    "import numpy as np\n",
    "import matplotlib.pyplot as plt\n",
    "import pandas as pd\n",
    "%matplotlib inline\n",
    "import warnings\n",
    "warnings.filterwarnings('ignore')\n",
    "\n",
    "dataset = pd.read_csv('Data.csv')\n",
    "X = dataset.iloc[:, :-1].values\n",
    "y = dataset.iloc[:, -1].values\n",
    "\n",
    "# need to convert X and y to 2D array since the feature scaling function expects a 2D array as input\n",
    "y = y.reshape(-1,1)\n",
    "\n",
    "# we split before feature scaling since we want mean and SD of values only in the training sets\n",
    "from sklearn.model_selection import train_test_split\n",
    "X_train, X_test, y_train, y_test = train_test_split(X, y, test_size = 0.2, random_state = 0)\n",
    "\n",
    "# we have to apply feature since there is an implicit relation bw feature variables & dependent variables\n",
    "# we will apply scaling on both feature and dependent variables\n",
    "# we create two obj of StandardScalar class since the mean and SD wil vary for both columns\n",
    "from sklearn.preprocessing import StandardScaler\n",
    "sc_X = StandardScaler()\n",
    "sc_y = StandardScaler()\n",
    "X_train = sc_X.fit_transform(X_train)\n",
    "y_train = sc_y.fit_transform(y_train)"
   ]
  },
  {
   "cell_type": "markdown",
   "id": "d2f6e8e6",
   "metadata": {},
   "source": [
    "---"
   ]
  },
  {
   "cell_type": "markdown",
   "id": "d288328b",
   "metadata": {},
   "source": [
    "Training SVR model on the whole set"
   ]
  },
  {
   "cell_type": "code",
   "execution_count": 2,
   "id": "8d95af45",
   "metadata": {},
   "outputs": [
    {
     "data": {
      "text/plain": [
       "SVR()"
      ]
     },
     "execution_count": 2,
     "metadata": {},
     "output_type": "execute_result"
    }
   ],
   "source": [
    "from sklearn.svm import SVR\n",
    "\n",
    "# we use radial basis function kernel, since our dataset has non-linear relationship (read more about these)\n",
    "regressor = SVR(kernel='rbf')\n",
    "regressor.fit(X_train, y_train)"
   ]
  },
  {
   "cell_type": "markdown",
   "id": "45b476d6",
   "metadata": {},
   "source": [
    "---"
   ]
  },
  {
   "cell_type": "markdown",
   "id": "98ee9ebc",
   "metadata": {},
   "source": [
    "Predicting Test set results"
   ]
  },
  {
   "cell_type": "code",
   "execution_count": 4,
   "id": "f55ef2a4",
   "metadata": {},
   "outputs": [
    {
     "name": "stdout",
     "output_type": "stream",
     "text": [
      "[[434.05242921 431.23      ]\n",
      " [457.93810186 460.01      ]\n",
      " [461.03113894 461.14      ]\n",
      " ...\n",
      " [470.60268461 473.26      ]\n",
      " [439.41653548 438.        ]\n",
      " [460.91757115 463.28      ]]\n"
     ]
    }
   ],
   "source": [
    "y_pred_scaled = regressor.predict(sc_X.transform(X_test))\n",
    "\n",
    "# we need to inversely transform the scaled predicted y(salary) using sc_y\n",
    "y_pred = sc_y.inverse_transform(y_pred_scaled)\n",
    "\n",
    "print(np.concatenate((y_pred.reshape(-1, 1), y_test.reshape(-1, 1)), axis=1))"
   ]
  },
  {
   "cell_type": "markdown",
   "id": "d1617798",
   "metadata": {},
   "source": [
    "---"
   ]
  },
  {
   "cell_type": "markdown",
   "id": "02c2d1e9",
   "metadata": {},
   "source": [
    "Evaluating Model Performance"
   ]
  },
  {
   "cell_type": "code",
   "execution_count": 5,
   "id": "bb0ce2d6",
   "metadata": {},
   "outputs": [
    {
     "data": {
      "text/plain": [
       "0.948078404998626"
      ]
     },
     "execution_count": 5,
     "metadata": {},
     "output_type": "execute_result"
    }
   ],
   "source": [
    "from sklearn.metrics import r2_score\n",
    "r2_score(y_test, y_pred)"
   ]
  },
  {
   "cell_type": "code",
   "execution_count": null,
   "id": "ef387087",
   "metadata": {},
   "outputs": [],
   "source": []
  }
 ],
 "metadata": {
  "kernelspec": {
   "display_name": "Python 3",
   "language": "python",
   "name": "python3"
  },
  "language_info": {
   "codemirror_mode": {
    "name": "ipython",
    "version": 3
   },
   "file_extension": ".py",
   "mimetype": "text/x-python",
   "name": "python",
   "nbconvert_exporter": "python",
   "pygments_lexer": "ipython3",
   "version": "3.8.8"
  }
 },
 "nbformat": 4,
 "nbformat_minor": 5
}
