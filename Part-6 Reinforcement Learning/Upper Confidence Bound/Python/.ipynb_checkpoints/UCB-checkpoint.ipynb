{
 "cells": [
  {
   "cell_type": "markdown",
   "id": "b0ec5177",
   "metadata": {},
   "source": [
    "Data Preprocessing"
   ]
  },
  {
   "cell_type": "code",
   "execution_count": 4,
   "id": "b80c37d5",
   "metadata": {},
   "outputs": [],
   "source": [
    "import numpy as np\n",
    "import matplotlib.pyplot as plt\n",
    "import pandas as pd\n",
    "import math\n",
    "%matplotlib inline\n",
    "import warnings\n",
    "warnings.filterwarnings('ignore')\n",
    "\n",
    "dataset = pd.read_csv('Ads_CTR_Optimisation.csv')"
   ]
  },
  {
   "cell_type": "markdown",
   "id": "66af02db",
   "metadata": {},
   "source": [
    "---"
   ]
  },
  {
   "cell_type": "markdown",
   "id": "75de63e5",
   "metadata": {},
   "source": [
    "Implementing UCB"
   ]
  },
  {
   "cell_type": "code",
   "execution_count": 14,
   "id": "aee490f7",
   "metadata": {},
   "outputs": [],
   "source": [
    "# no. of users/rounds, we have 10000 users but it works fine with just 1000 too (we can start with 10000 and can go on reducing, we find that for 1000 it works fine, but not for 500)\n",
    "N = 1000\n",
    "\n",
    "# no. of ads\n",
    "d = 10\n",
    "\n",
    "# list of ads that are selected over the rounds, at the end it will have 1000 elements, element at nth index shows the ad selected at round n\n",
    "ads_selected = []\n",
    "\n",
    "# no. of times the ad i was selected  upto round n, list of ten 0s corresponding to each ad, increases by 1 as an ad is selected\n",
    "number_of_selections = [0] * d\n",
    "\n",
    "# sum of rewards of ad i upto round n\n",
    "sum_of_rewards = [0] * d\n",
    "\n",
    "# total reward accumulated upto round n\n",
    "total_reward = 0\n",
    "\n",
    "for n in range(0,N):\n",
    "    ad = 0             # ad that is selected\n",
    "    max_ucb = 0\n",
    "    for i in range(0,d):\n",
    "        if(number_of_selections[i] > 0):\n",
    "            avg_reward = sum_of_rewards[i] / number_of_selections[i]\n",
    "            delta_i = math.sqrt(1.5 * math.log(n+1) / number_of_selections[i])   # log(0) is -infinity, hence we start from 1 (n+1)\n",
    "            ucb = avg_reward + delta_i    \n",
    "        else:\n",
    "            ucb = 1e400         # if ad is not selected yet, we make the upper bound so high that it gets selected\n",
    "        if(ucb > max_ucb):\n",
    "            max_ucb = ucb\n",
    "            ad = i\n",
    "    ads_selected.append(ad)\n",
    "    number_of_selections[ad] += 1\n",
    "    reward = dataset.values[n][ad]\n",
    "    sum_of_rewards[ad] += reward\n",
    "    total_reward += reward                          "
   ]
  },
  {
   "cell_type": "markdown",
   "id": "34b8280d",
   "metadata": {},
   "source": [
    "---"
   ]
  },
  {
   "cell_type": "markdown",
   "id": "839d079c",
   "metadata": {},
   "source": [
    "Visualizing the results"
   ]
  },
  {
   "cell_type": "code",
   "execution_count": 15,
   "id": "3e5b1e6b",
   "metadata": {},
   "outputs": [
    {
     "data": {
      "image/png": "[encoded data removed]",
      "text/plain": [
       "<Figure size 432x288 with 1 Axes>"
      ]
     },
     "metadata": {
      "needs_background": "light"
     },
     "output_type": "display_data"
    }
   ],
   "source": [
    "plt.hist(ads_selected)\n",
    "plt.title('Histogram of Ads selection')\n",
    "plt.xlabel('Ads')\n",
    "plt.ylabel('No. of times each ad was selected')\n",
    "plt.show()"
   ]
  },
  {
   "cell_type": "code",
   "execution_count": null,
   "id": "20caef56",
   "metadata": {},
   "outputs": [],
   "source": []
  }
 ],
 "metadata": {
  "kernelspec": {
   "display_name": "Python 3",
   "language": "python",
   "name": "python3"
  },
  "language_info": {
   "codemirror_mode": {
    "name": "ipython",
    "version": 3
   },
   "file_extension": ".py",
   "mimetype": "text/x-python",
   "name": "python",
   "nbconvert_exporter": "python",
   "pygments_lexer": "ipython3",
   "version": "3.8.8"
  }
 },
 "nbformat": 4,
 "nbformat_minor": 5
}
