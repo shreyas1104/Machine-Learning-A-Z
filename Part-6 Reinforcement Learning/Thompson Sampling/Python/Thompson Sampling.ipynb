{
 "cells": [
  {
   "cell_type": "markdown",
   "id": "a7f07fa5",
   "metadata": {},
   "source": [
    "Data Preprocessing"
   ]
  },
  {
   "cell_type": "code",
   "execution_count": 2,
   "id": "4ca433b3",
   "metadata": {},
   "outputs": [],
   "source": [
    "import numpy as np\n",
    "import matplotlib.pyplot as plt\n",
    "import pandas as pd\n",
    "import random\n",
    "%matplotlib inline\n",
    "import warnings\n",
    "warnings.filterwarnings('ignore')\n",
    "\n",
    "dataset = pd.read_csv('Ads_CTR_Optimisation.csv')"
   ]
  },
  {
   "cell_type": "markdown",
   "id": "31f47c13",
   "metadata": {},
   "source": [
    "---"
   ]
  },
  {
   "cell_type": "markdown",
   "id": "51b8661b",
   "metadata": {},
   "source": [
    "Implementing Thompson Sampling"
   ]
  },
  {
   "cell_type": "code",
   "execution_count": 20,
   "id": "87689d63",
   "metadata": {},
   "outputs": [],
   "source": [
    "# no. of users/rounds, we have 10000 users but it works fine with just 500 too (we can start with 10000 and can go on reducing, we find that for 500 it works fine)\n",
    "N = 500\n",
    "\n",
    "# no. of ads\n",
    "d = 10\n",
    "\n",
    "# list of ads that are selected over the rounds, at the end it will have 500 elements, element at nth index shows the ad selected at round n\n",
    "ads_selected = []\n",
    "\n",
    "# no. of times an ad gets reward 1 upto round n\n",
    "number_of_rewards_1 = [0] * d\n",
    "\n",
    "# no. of times an ad gets reward 0 upto round n\n",
    "number_of_rewards_0 = [0] * d\n",
    "\n",
    "# total reward accumulated upto round n\n",
    "total_reward = 0\n",
    "\n",
    "for n in range(0,N):\n",
    "    ad = 0\n",
    "    max_random = 0\n",
    "    for i in range(0,d):\n",
    "        random_beta = random.betavariate(number_of_rewards_1[i]+1, number_of_rewards_0[i]+1)\n",
    "        if(random_beta > max_random):\n",
    "            max_random = random_beta\n",
    "            ad = i\n",
    "    ads_selected.append(ad)\n",
    "    reward = dataset.values[n][ad]\n",
    "    if(reward == 1):\n",
    "        number_of_rewards_1[ad] += 1\n",
    "    else:\n",
    "        number_of_rewards_0[ad] += 1\n",
    "    total_reward += reward          "
   ]
  },
  {
   "cell_type": "markdown",
   "id": "c50a8616",
   "metadata": {},
   "source": [
    "---"
   ]
  },
  {
   "cell_type": "markdown",
   "id": "96420163",
   "metadata": {},
   "source": [
    "Visualizing the results"
   ]
  },
  {
   "cell_type": "code",
   "execution_count": 21,
   "id": "a3faf354",
   "metadata": {},
   "outputs": [
    {
     "data": {
      "image/png": "[encoded data removed]",
      "text/plain": [
       "<Figure size 432x288 with 1 Axes>"
      ]
     },
     "metadata": {
      "needs_background": "light"
     },
     "output_type": "display_data"
    }
   ],
   "source": [
    "plt.hist(ads_selected)\n",
    "plt.title('Histogram of Ads selection')\n",
    "plt.xlabel('Ads')\n",
    "plt.ylabel('No. of times each ad was selected')\n",
    "plt.show()"
   ]
  },
  {
   "cell_type": "code",
   "execution_count": null,
   "id": "1be2d4a8",
   "metadata": {},
   "outputs": [],
   "source": []
  }
 ],
 "metadata": {
  "kernelspec": {
   "display_name": "Python 3",
   "language": "python",
   "name": "python3"
  },
  "language_info": {
   "codemirror_mode": {
    "name": "ipython",
    "version": 3
   },
   "file_extension": ".py",
   "mimetype": "text/x-python",
   "name": "python",
   "nbconvert_exporter": "python",
   "pygments_lexer": "ipython3",
   "version": "3.8.8"
  }
 },
 "nbformat": 4,
 "nbformat_minor": 5
}
