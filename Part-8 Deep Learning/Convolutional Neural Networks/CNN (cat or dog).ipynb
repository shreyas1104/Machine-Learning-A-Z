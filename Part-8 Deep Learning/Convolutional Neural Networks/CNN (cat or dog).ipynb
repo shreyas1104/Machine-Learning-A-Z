{
 "cells": [
  {
   "cell_type": "code",
   "execution_count": 40,
   "id": "3e7326fa",
   "metadata": {},
   "outputs": [],
   "source": [
    "import tensorflow as tf\n",
    "from keras.preprocessing.image import ImageDataGenerator\n",
    "import numpy as np\n",
    "from keras.preprocessing import image"
   ]
  },
  {
   "cell_type": "markdown",
   "id": "bcbce2d5",
   "metadata": {},
   "source": [
    "---"
   ]
  },
  {
   "cell_type": "markdown",
   "id": "d30cc254",
   "metadata": {},
   "source": [
    "Data Preprocessing (refer https://keras.io/api/preprocessing/image/#imagedatagenerator-class)"
   ]
  },
  {
   "cell_type": "code",
   "execution_count": 29,
   "id": "6f38bb62",
   "metadata": {},
   "outputs": [
    {
     "name": "stdout",
     "output_type": "stream",
     "text": [
      "Found 8000 images belonging to 2 classes.\n"
     ]
    }
   ],
   "source": [
    "# Image augmentation to avoid overfitting\n",
    "# rescale is similar to feature-scaling\n",
    "train_datagen = ImageDataGenerator(rescale=1./255, shear_range=0.2, zoom_range=0.2, horizontal_flip=True)\n",
    "\n",
    "# importing training dataset \n",
    "# binary outcome (cat/dog): binary; multiple: categorical\n",
    "training_set = train_datagen.flow_from_directory('dataset/training_set', target_size=(64, 64), batch_size=32,\\\n",
    "                                                 class_mode='binary')"
   ]
  },
  {
   "cell_type": "code",
   "execution_count": 30,
   "id": "69723bbf",
   "metadata": {},
   "outputs": [
    {
     "name": "stdout",
     "output_type": "stream",
     "text": [
      "Found 2000 images belonging to 2 classes.\n"
     ]
    }
   ],
   "source": [
    "# only rescaling test images\n",
    "test_datagen = ImageDataGenerator(rescale=1./255)\n",
    "\n",
    "# importing test dataset\n",
    "test_set = test_datagen.flow_from_directory('dataset/test_set', target_size=(64, 64), batch_size=32,\\\n",
    "                                            class_mode='binary')"
   ]
  },
  {
   "cell_type": "markdown",
   "id": "1f5beef5",
   "metadata": {},
   "source": [
    "---"
   ]
  },
  {
   "cell_type": "markdown",
   "id": "62660abf",
   "metadata": {},
   "source": [
    "Building the CNN"
   ]
  },
  {
   "cell_type": "code",
   "execution_count": 31,
   "id": "5820f3c1",
   "metadata": {},
   "outputs": [],
   "source": [
    "cnn = tf.keras.models.Sequential()\n",
    "from tensorflow.keras import layers"
   ]
  },
  {
   "cell_type": "code",
   "execution_count": 32,
   "id": "aa719bf5",
   "metadata": {},
   "outputs": [],
   "source": [
    "# Convolution\n",
    "# input_shape is the size of the images, we resized to 64*64 and 3 is RGB since they are coloured images\n",
    "\n",
    "cnn.add(layers.Conv2D(filters=32, kernel_size=3, activation='relu', input_shape=[64, 64, 3]))"
   ]
  },
  {
   "cell_type": "code",
   "execution_count": 33,
   "id": "62aa67f5",
   "metadata": {},
   "outputs": [],
   "source": [
    "# Pooling\n",
    "cnn.add(layers.MaxPool2D(pool_size=2, strides=2))"
   ]
  },
  {
   "cell_type": "code",
   "execution_count": 34,
   "id": "3386812b",
   "metadata": {},
   "outputs": [],
   "source": [
    "# Second Convolutional Layer\n",
    "# no input_shape for this, only required for first layer\n",
    "\n",
    "cnn.add(layers.Conv2D(filters=32, kernel_size=3, activation='relu'))\n",
    "cnn.add(layers.MaxPool2D(pool_size=2, strides=2))"
   ]
  },
  {
   "cell_type": "code",
   "execution_count": 35,
   "id": "4016880f",
   "metadata": {},
   "outputs": [],
   "source": [
    "# Flattening\n",
    "cnn.add(layers.Flatten())"
   ]
  },
  {
   "cell_type": "code",
   "execution_count": 36,
   "id": "bda3e8c8",
   "metadata": {},
   "outputs": [],
   "source": [
    "# Full Connection\n",
    "cnn.add(layers.Dense(units=128, activation='relu'))"
   ]
  },
  {
   "cell_type": "code",
   "execution_count": 37,
   "id": "da6e4e0e",
   "metadata": {},
   "outputs": [],
   "source": [
    "# Output layer (similar to our ANN eg.)\n",
    "cnn.add(tf.keras.layers.Dense(units=1, activation='sigmoid'))"
   ]
  },
  {
   "cell_type": "markdown",
   "id": "fb9b037f",
   "metadata": {},
   "source": [
    "---"
   ]
  },
  {
   "cell_type": "markdown",
   "id": "f4798b29",
   "metadata": {},
   "source": [
    "Training the CNN"
   ]
  },
  {
   "cell_type": "code",
   "execution_count": 38,
   "id": "1cddedd3",
   "metadata": {},
   "outputs": [],
   "source": [
    "# Compiling the CNN\n",
    "cnn.compile(optimizer='adam', loss='binary_crossentropy', metrics=['accuracy'])"
   ]
  },
  {
   "cell_type": "code",
   "execution_count": 39,
   "id": "231ac562",
   "metadata": {},
   "outputs": [
    {
     "name": "stdout",
     "output_type": "stream",
     "text": [
      "Epoch 1/25\n",
      "250/250 [==============================] - 78s 314ms/step - loss: 0.6643 - accuracy: 0.5842 - val_loss: 0.6147 - val_accuracy: 0.6850\n",
      "Epoch 2/25\n",
      "250/250 [==============================] - 49s 196ms/step - loss: 0.5973 - accuracy: 0.6783 - val_loss: 0.5382 - val_accuracy: 0.7270\n",
      "Epoch 3/25\n",
      "250/250 [==============================] - 49s 195ms/step - loss: 0.5511 - accuracy: 0.7210 - val_loss: 0.5267 - val_accuracy: 0.7460\n",
      "Epoch 4/25\n",
      "250/250 [==============================] - 49s 196ms/step - loss: 0.5231 - accuracy: 0.7414 - val_loss: 0.5052 - val_accuracy: 0.7570\n",
      "Epoch 5/25\n",
      "250/250 [==============================] - 50s 199ms/step - loss: 0.5008 - accuracy: 0.7555 - val_loss: 0.5040 - val_accuracy: 0.7515\n",
      "Epoch 6/25\n",
      "250/250 [==============================] - 49s 195ms/step - loss: 0.4776 - accuracy: 0.7705 - val_loss: 0.4877 - val_accuracy: 0.7660\n",
      "Epoch 7/25\n",
      "250/250 [==============================] - 49s 195ms/step - loss: 0.4636 - accuracy: 0.7739 - val_loss: 0.4777 - val_accuracy: 0.7730\n",
      "Epoch 8/25\n",
      "250/250 [==============================] - 49s 196ms/step - loss: 0.4394 - accuracy: 0.7922 - val_loss: 0.4641 - val_accuracy: 0.7915\n",
      "Epoch 9/25\n",
      "250/250 [==============================] - 49s 196ms/step - loss: 0.4339 - accuracy: 0.7961 - val_loss: 0.4448 - val_accuracy: 0.8015\n",
      "Epoch 10/25\n",
      "250/250 [==============================] - 49s 195ms/step - loss: 0.4202 - accuracy: 0.8071 - val_loss: 0.4478 - val_accuracy: 0.8030\n",
      "Epoch 11/25\n",
      "250/250 [==============================] - 49s 196ms/step - loss: 0.4080 - accuracy: 0.8117 - val_loss: 0.4653 - val_accuracy: 0.7790\n",
      "Epoch 12/25\n",
      "250/250 [==============================] - 48s 193ms/step - loss: 0.3965 - accuracy: 0.8175 - val_loss: 0.4496 - val_accuracy: 0.7965\n",
      "Epoch 13/25\n",
      "250/250 [==============================] - 47s 189ms/step - loss: 0.3900 - accuracy: 0.8194 - val_loss: 0.4359 - val_accuracy: 0.8010\n",
      "Epoch 14/25\n",
      "250/250 [==============================] - 49s 195ms/step - loss: 0.3668 - accuracy: 0.8292 - val_loss: 0.4538 - val_accuracy: 0.8025\n",
      "Epoch 15/25\n",
      "250/250 [==============================] - 47s 187ms/step - loss: 0.3699 - accuracy: 0.8330 - val_loss: 0.4606 - val_accuracy: 0.8065\n",
      "Epoch 16/25\n",
      "250/250 [==============================] - 47s 189ms/step - loss: 0.3412 - accuracy: 0.8447 - val_loss: 0.4520 - val_accuracy: 0.8090\n",
      "Epoch 17/25\n",
      "250/250 [==============================] - 47s 187ms/step - loss: 0.3371 - accuracy: 0.8521 - val_loss: 0.4700 - val_accuracy: 0.7980\n",
      "Epoch 18/25\n",
      "250/250 [==============================] - 47s 188ms/step - loss: 0.3300 - accuracy: 0.8610 - val_loss: 0.5342 - val_accuracy: 0.7665\n",
      "Epoch 19/25\n",
      "250/250 [==============================] - 965s 4s/step - loss: 0.3145 - accuracy: 0.8645 - val_loss: 0.5141 - val_accuracy: 0.7880\n",
      "Epoch 20/25\n",
      "250/250 [==============================] - 49s 195ms/step - loss: 0.3097 - accuracy: 0.8679 - val_loss: 0.4626 - val_accuracy: 0.7990\n",
      "Epoch 21/25\n",
      "250/250 [==============================] - 49s 196ms/step - loss: 0.2914 - accuracy: 0.8750 - val_loss: 0.4543 - val_accuracy: 0.8030\n",
      "Epoch 22/25\n",
      "250/250 [==============================] - 49s 197ms/step - loss: 0.2767 - accuracy: 0.8795 - val_loss: 0.4472 - val_accuracy: 0.8140\n",
      "Epoch 23/25\n",
      "250/250 [==============================] - 49s 197ms/step - loss: 0.2644 - accuracy: 0.8898 - val_loss: 0.5138 - val_accuracy: 0.8010\n",
      "Epoch 24/25\n",
      "250/250 [==============================] - 50s 199ms/step - loss: 0.2553 - accuracy: 0.8906 - val_loss: 0.4870 - val_accuracy: 0.8105\n",
      "Epoch 25/25\n",
      "250/250 [==============================] - 52s 209ms/step - loss: 0.2478 - accuracy: 0.8949 - val_loss: 0.5068 - val_accuracy: 0.8065\n"
     ]
    },
    {
     "data": {
      "text/plain": [
       "<tensorflow.python.keras.callbacks.History at 0x21849248820>"
      ]
     },
     "execution_count": 39,
     "metadata": {},
     "output_type": "execute_result"
    }
   ],
   "source": [
    "# Training the CNN on training set and evaluating it on the test set\n",
    "\n",
    "cnn.fit(x=training_set, validation_data=test_set, epochs=25)"
   ]
  },
  {
   "cell_type": "markdown",
   "id": "516de987",
   "metadata": {},
   "source": [
    "---"
   ]
  },
  {
   "cell_type": "markdown",
   "id": "9f9aab7b",
   "metadata": {},
   "source": [
    "Predicting a single result"
   ]
  },
  {
   "cell_type": "code",
   "execution_count": 46,
   "id": "635172b1",
   "metadata": {},
   "outputs": [
    {
     "name": "stdout",
     "output_type": "stream",
     "text": [
      "Dog\n"
     ]
    }
   ],
   "source": [
    "test_image1 = image.load_img(path='dataset/single_prediction/image1.jpg', target_size=(64,64))\n",
    "test_image1 = image.img_to_array(test_image1)\n",
    "test_image1 = np.expand_dims(test_image1, axis=0)\n",
    "result = cnn.predict(test_image1)\n",
    "training_set.class_indices\n",
    "if result[0][0] == 1:\n",
    "    prediction = 'Dog'\n",
    "else:\n",
    "    prediction = 'Cat'\n",
    "    \n",
    "print(prediction)"
   ]
  },
  {
   "cell_type": "code",
   "execution_count": 47,
   "id": "c9fb1829",
   "metadata": {},
   "outputs": [
    {
     "name": "stdout",
     "output_type": "stream",
     "text": [
      "Cat\n"
     ]
    }
   ],
   "source": [
    "test_image2 = image.load_img(path='dataset/single_prediction/image2.jpg', target_size=(64,64))\n",
    "test_image2 = image.img_to_array(test_image2)\n",
    "test_image2 = np.expand_dims(test_image2, axis=0)\n",
    "result = cnn.predict(test_image2)\n",
    "training_set.class_indices\n",
    "if result[0][0] == 1:\n",
    "    prediction = 'Dog'\n",
    "else:\n",
    "    prediction = 'Cat'\n",
    "    \n",
    "print(prediction)"
   ]
  },
  {
   "cell_type": "code",
   "execution_count": null,
   "id": "2791c80c",
   "metadata": {},
   "outputs": [],
   "source": []
  }
 ],
 "metadata": {
  "kernelspec": {
   "display_name": "Python 3",
   "language": "python",
   "name": "python3"
  },
  "language_info": {
   "codemirror_mode": {
    "name": "ipython",
    "version": 3
   },
   "file_extension": ".py",
   "mimetype": "text/x-python",
   "name": "python",
   "nbconvert_exporter": "python",
   "pygments_lexer": "ipython3",
   "version": "3.8.8"
  }
 },
 "nbformat": 4,
 "nbformat_minor": 5
}
