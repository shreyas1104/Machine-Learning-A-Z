{
 "cells": [
  {
   "cell_type": "markdown",
   "id": "97157d59",
   "metadata": {},
   "source": [
    "Data Preprocessing"
   ]
  },
  {
   "cell_type": "code",
   "execution_count": 2,
   "id": "90f174c2",
   "metadata": {},
   "outputs": [],
   "source": [
    "import numpy as np\n",
    "import pandas as pd \n",
    "import tensorflow as tf\n",
    "\n",
    "dataset = pd.read_csv('Churn_Modelling.csv')\n",
    "X = dataset.iloc[ : , 3:-1].values\n",
    "y = dataset.iloc[ : , -1].values"
   ]
  },
  {
   "cell_type": "code",
   "execution_count": 3,
   "id": "89e96795",
   "metadata": {},
   "outputs": [],
   "source": [
    "# Label encoding the 'Gender' column\n",
    "\n",
    "from sklearn.preprocessing import LabelEncoder\n",
    "le = LabelEncoder()\n",
    "X[ :, 2] = le.fit_transform(X[ :, 2])"
   ]
  },
  {
   "cell_type": "code",
   "execution_count": 4,
   "id": "40b677cc",
   "metadata": {},
   "outputs": [],
   "source": [
    "# One-hot encoding the 'Geography' column\n",
    "\n",
    "from sklearn.compose import ColumnTransformer\n",
    "from sklearn.preprocessing import OneHotEncoder\n",
    "ct = ColumnTransformer(transformers=[('encoder', OneHotEncoder(), [1])], remainder='passthrough')\n",
    "X = np.array(ct.fit_transform(X)) "
   ]
  },
  {
   "cell_type": "code",
   "execution_count": 5,
   "id": "ac5c8d31",
   "metadata": {},
   "outputs": [
    {
     "name": "stdout",
     "output_type": "stream",
     "text": [
      "12\n"
     ]
    }
   ],
   "source": [
    "print(len(X[0]))"
   ]
  },
  {
   "cell_type": "code",
   "execution_count": 6,
   "id": "e5a50760",
   "metadata": {},
   "outputs": [
    {
     "name": "stdout",
     "output_type": "stream",
     "text": [
      "[[1.0 0.0 0.0 ... 1 1 101348.88]\n",
      " [0.0 0.0 1.0 ... 0 1 112542.58]\n",
      " [1.0 0.0 0.0 ... 1 0 113931.57]\n",
      " ...\n",
      " [1.0 0.0 0.0 ... 0 1 42085.58]\n",
      " [0.0 1.0 0.0 ... 1 0 92888.52]\n",
      " [1.0 0.0 0.0 ... 1 0 38190.78]]\n"
     ]
    }
   ],
   "source": [
    "print(X)"
   ]
  },
  {
   "cell_type": "code",
   "execution_count": 7,
   "id": "5568e048",
   "metadata": {},
   "outputs": [],
   "source": [
    "# Splitting dataset into training and testing set\n",
    "\n",
    "from sklearn.model_selection import train_test_split    \n",
    "X_train, X_test, y_train, y_test = train_test_split(X, y, test_size=0.2, random_state=1)"
   ]
  },
  {
   "cell_type": "code",
   "execution_count": 8,
   "id": "31a95509",
   "metadata": {},
   "outputs": [
    {
     "name": "stdout",
     "output_type": "stream",
     "text": [
      "12\n"
     ]
    }
   ],
   "source": [
    "print(len(X_train[0]))"
   ]
  },
  {
   "cell_type": "code",
   "execution_count": 9,
   "id": "6f5f2020",
   "metadata": {},
   "outputs": [],
   "source": [
    "# Feature scaling (very important/compulsory for Deep-Learning)\n",
    "\n",
    "from sklearn.preprocessing import StandardScaler\n",
    "sc = StandardScaler()\n",
    "X_train = sc.fit_transform(X_train)\n",
    "X_test = sc.transform(X_test)"
   ]
  },
  {
   "cell_type": "markdown",
   "id": "13f42699",
   "metadata": {},
   "source": [
    "---"
   ]
  },
  {
   "cell_type": "markdown",
   "id": "44557d16",
   "metadata": {},
   "source": [
    "Building the ANN"
   ]
  },
  {
   "cell_type": "code",
   "execution_count": 10,
   "id": "7cb54dc0",
   "metadata": {},
   "outputs": [],
   "source": [
    "ann = tf.keras.models.Sequential()\n",
    "\n",
    "# adding the input layer and first hidden layer (input layer is added automatically) \n",
    "# we choose the no. of neurons for hidden layer as 6, based on trial & error; relu=rectifier activation fn.\n",
    "ann.add(tf.keras.layers.Dense(units=6, activation='relu'))\n",
    "\n",
    "# adding a second hidden layer\n",
    "ann.add(tf.keras.layers.Dense(units=6, activation='relu'))\n",
    "\n",
    "# adding the output layer, 1 neuron in O/P layer; activation fn. as sigmoid since we want the probability of a person exiting\n",
    "# if we had 3 outcomes, A,B,C then we would need 3 neurons- A(1,0,0); B(0,1,0); C(0,0,1)\n",
    "\n",
    "# binary classification: sigmoid; non-binary: softmax\n",
    "ann.add(tf.keras.layers.Dense(units=1, activation='sigmoid'))"
   ]
  },
  {
   "cell_type": "markdown",
   "id": "461d2e73",
   "metadata": {},
   "source": [
    "---"
   ]
  },
  {
   "cell_type": "markdown",
   "id": "48e4de8a",
   "metadata": {},
   "source": [
    "Training the ANN"
   ]
  },
  {
   "cell_type": "code",
   "execution_count": 11,
   "id": "ebea10fe",
   "metadata": {},
   "outputs": [
    {
     "name": "stdout",
     "output_type": "stream",
     "text": [
      "Epoch 1/100\n",
      "250/250 [==============================] - 0s 1ms/step - loss: 0.5336 - accuracy: 0.7741\n",
      "Epoch 2/100\n",
      "250/250 [==============================] - 0s 1ms/step - loss: 0.4627 - accuracy: 0.7996\n",
      "Epoch 3/100\n",
      "250/250 [==============================] - 0s 1ms/step - loss: 0.4351 - accuracy: 0.8102\n",
      "Epoch 4/100\n",
      "250/250 [==============================] - 0s 800us/step - loss: 0.4173 - accuracy: 0.8206\n",
      "Epoch 5/100\n",
      "250/250 [==============================] - 0s 776us/step - loss: 0.4016 - accuracy: 0.8322\n",
      "Epoch 6/100\n",
      "250/250 [==============================] - 0s 771us/step - loss: 0.3880 - accuracy: 0.8369\n",
      "Epoch 7/100\n",
      "250/250 [==============================] - 0s 766us/step - loss: 0.3782 - accuracy: 0.8438\n",
      "Epoch 8/100\n",
      "250/250 [==============================] - 0s 775us/step - loss: 0.3714 - accuracy: 0.8474\n",
      "Epoch 9/100\n",
      "250/250 [==============================] - 0s 762us/step - loss: 0.3665 - accuracy: 0.8505\n",
      "Epoch 10/100\n",
      "250/250 [==============================] - 0s 901us/step - loss: 0.3630 - accuracy: 0.8504\n",
      "Epoch 11/100\n",
      "250/250 [==============================] - 0s 935us/step - loss: 0.3604 - accuracy: 0.8512\n",
      "Epoch 12/100\n",
      "250/250 [==============================] - 0s 942us/step - loss: 0.3582 - accuracy: 0.8525\n",
      "Epoch 13/100\n",
      "250/250 [==============================] - 0s 817us/step - loss: 0.3559 - accuracy: 0.8531\n",
      "Epoch 14/100\n",
      "250/250 [==============================] - 0s 803us/step - loss: 0.3546 - accuracy: 0.8536\n",
      "Epoch 15/100\n",
      "250/250 [==============================] - 0s 793us/step - loss: 0.3533 - accuracy: 0.8543\n",
      "Epoch 16/100\n",
      "250/250 [==============================] - 0s 762us/step - loss: 0.3512 - accuracy: 0.8553\n",
      "Epoch 17/100\n",
      "250/250 [==============================] - 0s 776us/step - loss: 0.3499 - accuracy: 0.8568\n",
      "Epoch 18/100\n",
      "250/250 [==============================] - 0s 772us/step - loss: 0.3490 - accuracy: 0.8581\n",
      "Epoch 19/100\n",
      "250/250 [==============================] - 0s 782us/step - loss: 0.3483 - accuracy: 0.8585\n",
      "Epoch 20/100\n",
      "250/250 [==============================] - 0s 792us/step - loss: 0.3476 - accuracy: 0.85830s - loss: 0.3495 - accuracy: 0.85\n",
      "Epoch 21/100\n",
      "250/250 [==============================] - 0s 832us/step - loss: 0.3466 - accuracy: 0.85950s - loss: 0.3445 - accuracy: 0.86\n",
      "Epoch 22/100\n",
      "250/250 [==============================] - 0s 939us/step - loss: 0.3463 - accuracy: 0.8591\n",
      "Epoch 23/100\n",
      "250/250 [==============================] - 0s 882us/step - loss: 0.3455 - accuracy: 0.8612\n",
      "Epoch 24/100\n",
      "250/250 [==============================] - 0s 805us/step - loss: 0.3451 - accuracy: 0.8591\n",
      "Epoch 25/100\n",
      "250/250 [==============================] - 0s 793us/step - loss: 0.3449 - accuracy: 0.8599\n",
      "Epoch 26/100\n",
      "250/250 [==============================] - 0s 794us/step - loss: 0.3441 - accuracy: 0.8605\n",
      "Epoch 27/100\n",
      "250/250 [==============================] - 0s 818us/step - loss: 0.3433 - accuracy: 0.8605\n",
      "Epoch 28/100\n",
      "250/250 [==============================] - 0s 794us/step - loss: 0.3429 - accuracy: 0.8610\n",
      "Epoch 29/100\n",
      "250/250 [==============================] - 0s 794us/step - loss: 0.3419 - accuracy: 0.8622\n",
      "Epoch 30/100\n",
      "250/250 [==============================] - 0s 797us/step - loss: 0.3420 - accuracy: 0.8615\n",
      "Epoch 31/100\n",
      "250/250 [==============================] - 0s 814us/step - loss: 0.3418 - accuracy: 0.8622\n",
      "Epoch 32/100\n",
      "250/250 [==============================] - 0s 818us/step - loss: 0.3418 - accuracy: 0.8622\n",
      "Epoch 33/100\n",
      "250/250 [==============================] - 0s 813us/step - loss: 0.3416 - accuracy: 0.8630\n",
      "Epoch 34/100\n",
      "250/250 [==============================] - 0s 808us/step - loss: 0.3412 - accuracy: 0.8615\n",
      "Epoch 35/100\n",
      "250/250 [==============================] - 0s 792us/step - loss: 0.3413 - accuracy: 0.8622\n",
      "Epoch 36/100\n",
      "250/250 [==============================] - 0s 798us/step - loss: 0.3411 - accuracy: 0.8612\n",
      "Epoch 37/100\n",
      "250/250 [==============================] - 0s 805us/step - loss: 0.3406 - accuracy: 0.8619\n",
      "Epoch 38/100\n",
      "250/250 [==============================] - 0s 899us/step - loss: 0.3405 - accuracy: 0.8616\n",
      "Epoch 39/100\n",
      "250/250 [==============================] - 0s 961us/step - loss: 0.3405 - accuracy: 0.8616\n",
      "Epoch 40/100\n",
      "250/250 [==============================] - 0s 797us/step - loss: 0.3399 - accuracy: 0.8625\n",
      "Epoch 41/100\n",
      "250/250 [==============================] - 0s 798us/step - loss: 0.3399 - accuracy: 0.8624\n",
      "Epoch 42/100\n",
      "250/250 [==============================] - 0s 803us/step - loss: 0.3399 - accuracy: 0.8621\n",
      "Epoch 43/100\n",
      "250/250 [==============================] - 0s 875us/step - loss: 0.3402 - accuracy: 0.8621\n",
      "Epoch 44/100\n",
      "250/250 [==============================] - 0s 838us/step - loss: 0.3393 - accuracy: 0.8629\n",
      "Epoch 45/100\n",
      "250/250 [==============================] - 0s 835us/step - loss: 0.3397 - accuracy: 0.8620\n",
      "Epoch 46/100\n",
      "250/250 [==============================] - 0s 858us/step - loss: 0.3395 - accuracy: 0.8616\n",
      "Epoch 47/100\n",
      "250/250 [==============================] - 0s 798us/step - loss: 0.3393 - accuracy: 0.8636\n",
      "Epoch 48/100\n",
      "250/250 [==============================] - 0s 798us/step - loss: 0.3391 - accuracy: 0.8609\n",
      "Epoch 49/100\n",
      "250/250 [==============================] - 0s 790us/step - loss: 0.3391 - accuracy: 0.8636\n",
      "Epoch 50/100\n",
      "250/250 [==============================] - 0s 791us/step - loss: 0.3386 - accuracy: 0.8626\n",
      "Epoch 51/100\n",
      "250/250 [==============================] - 0s 829us/step - loss: 0.3386 - accuracy: 0.8626\n",
      "Epoch 52/100\n",
      "250/250 [==============================] - 0s 838us/step - loss: 0.3385 - accuracy: 0.8630\n",
      "Epoch 53/100\n",
      "250/250 [==============================] - 0s 810us/step - loss: 0.3382 - accuracy: 0.8619\n",
      "Epoch 54/100\n",
      "250/250 [==============================] - 0s 789us/step - loss: 0.3380 - accuracy: 0.8631\n",
      "Epoch 55/100\n",
      "250/250 [==============================] - 0s 757us/step - loss: 0.3379 - accuracy: 0.8631\n",
      "Epoch 56/100\n",
      "250/250 [==============================] - 0s 751us/step - loss: 0.3378 - accuracy: 0.8625\n",
      "Epoch 57/100\n",
      "250/250 [==============================] - 0s 775us/step - loss: 0.3375 - accuracy: 0.8627\n",
      "Epoch 58/100\n",
      "250/250 [==============================] - 0s 798us/step - loss: 0.3374 - accuracy: 0.8624\n",
      "Epoch 59/100\n",
      "250/250 [==============================] - 0s 832us/step - loss: 0.3370 - accuracy: 0.8624\n",
      "Epoch 60/100\n",
      "250/250 [==============================] - 0s 889us/step - loss: 0.3368 - accuracy: 0.8625\n",
      "Epoch 61/100\n",
      "250/250 [==============================] - 0s 799us/step - loss: 0.3365 - accuracy: 0.8627\n",
      "Epoch 62/100\n",
      "250/250 [==============================] - 0s 890us/step - loss: 0.3363 - accuracy: 0.8609\n",
      "Epoch 63/100\n",
      "250/250 [==============================] - 0s 954us/step - loss: 0.3362 - accuracy: 0.8619\n",
      "Epoch 64/100\n",
      "250/250 [==============================] - 0s 851us/step - loss: 0.3360 - accuracy: 0.86190s - loss: 0.3366 - accuracy: 0.\n",
      "Epoch 65/100\n",
      "250/250 [==============================] - 0s 958us/step - loss: 0.3358 - accuracy: 0.8625\n",
      "Epoch 66/100\n",
      "250/250 [==============================] - 0s 850us/step - loss: 0.3359 - accuracy: 0.8600\n",
      "Epoch 67/100\n",
      "250/250 [==============================] - 0s 781us/step - loss: 0.3355 - accuracy: 0.8627\n",
      "Epoch 68/100\n",
      "250/250 [==============================] - 0s 770us/step - loss: 0.3354 - accuracy: 0.8618\n",
      "Epoch 69/100\n",
      "250/250 [==============================] - 0s 930us/step - loss: 0.3355 - accuracy: 0.8634\n",
      "Epoch 70/100\n",
      "250/250 [==============================] - 0s 840us/step - loss: 0.3351 - accuracy: 0.8615\n",
      "Epoch 71/100\n",
      "250/250 [==============================] - 0s 801us/step - loss: 0.3352 - accuracy: 0.8634\n",
      "Epoch 72/100\n",
      "250/250 [==============================] - 0s 950us/step - loss: 0.3353 - accuracy: 0.8618\n",
      "Epoch 73/100\n",
      "250/250 [==============================] - 0s 858us/step - loss: 0.3349 - accuracy: 0.8620\n",
      "Epoch 74/100\n",
      "250/250 [==============================] - 0s 846us/step - loss: 0.3346 - accuracy: 0.8612\n",
      "Epoch 75/100\n",
      "250/250 [==============================] - 0s 967us/step - loss: 0.3347 - accuracy: 0.8621\n",
      "Epoch 76/100\n",
      "250/250 [==============================] - 0s 931us/step - loss: 0.3345 - accuracy: 0.8612\n",
      "Epoch 77/100\n",
      "250/250 [==============================] - 0s 839us/step - loss: 0.3341 - accuracy: 0.8631\n",
      "Epoch 78/100\n",
      "250/250 [==============================] - 0s 939us/step - loss: 0.3341 - accuracy: 0.8608\n"
     ]
    },
    {
     "name": "stdout",
     "output_type": "stream",
     "text": [
      "Epoch 79/100\n",
      "250/250 [==============================] - 0s 819us/step - loss: 0.3342 - accuracy: 0.8622\n",
      "Epoch 80/100\n",
      "250/250 [==============================] - 0s 902us/step - loss: 0.3336 - accuracy: 0.8622\n",
      "Epoch 81/100\n",
      "250/250 [==============================] - 0s 885us/step - loss: 0.3338 - accuracy: 0.8627\n",
      "Epoch 82/100\n",
      "250/250 [==============================] - 0s 884us/step - loss: 0.3345 - accuracy: 0.8616\n",
      "Epoch 83/100\n",
      "250/250 [==============================] - 0s 906us/step - loss: 0.3340 - accuracy: 0.8596\n",
      "Epoch 84/100\n",
      "250/250 [==============================] - 0s 858us/step - loss: 0.3336 - accuracy: 0.8622\n",
      "Epoch 85/100\n",
      "250/250 [==============================] - 0s 878us/step - loss: 0.3338 - accuracy: 0.8619\n",
      "Epoch 86/100\n",
      "250/250 [==============================] - 0s 846us/step - loss: 0.3333 - accuracy: 0.8602\n",
      "Epoch 87/100\n",
      "250/250 [==============================] - 0s 803us/step - loss: 0.3340 - accuracy: 0.8608\n",
      "Epoch 88/100\n",
      "250/250 [==============================] - 0s 794us/step - loss: 0.3335 - accuracy: 0.8620\n",
      "Epoch 89/100\n",
      "250/250 [==============================] - 0s 803us/step - loss: 0.3336 - accuracy: 0.8615\n",
      "Epoch 90/100\n",
      "250/250 [==============================] - 0s 739us/step - loss: 0.3332 - accuracy: 0.8618\n",
      "Epoch 91/100\n",
      "250/250 [==============================] - 0s 742us/step - loss: 0.3335 - accuracy: 0.8615\n",
      "Epoch 92/100\n",
      "250/250 [==============================] - 0s 718us/step - loss: 0.3333 - accuracy: 0.8610\n",
      "Epoch 93/100\n",
      "250/250 [==============================] - 0s 742us/step - loss: 0.3335 - accuracy: 0.8616\n",
      "Epoch 94/100\n",
      "250/250 [==============================] - 0s 762us/step - loss: 0.3332 - accuracy: 0.8616\n",
      "Epoch 95/100\n",
      "250/250 [==============================] - 0s 784us/step - loss: 0.3332 - accuracy: 0.8624\n",
      "Epoch 96/100\n",
      "250/250 [==============================] - 0s 779us/step - loss: 0.3335 - accuracy: 0.8612\n",
      "Epoch 97/100\n",
      "250/250 [==============================] - 0s 839us/step - loss: 0.3335 - accuracy: 0.8605\n",
      "Epoch 98/100\n",
      "250/250 [==============================] - 0s 781us/step - loss: 0.3332 - accuracy: 0.8611\n",
      "Epoch 99/100\n",
      "250/250 [==============================] - 0s 855us/step - loss: 0.3328 - accuracy: 0.8608\n",
      "Epoch 100/100\n",
      "250/250 [==============================] - 0s 810us/step - loss: 0.3330 - accuracy: 0.8621\n"
     ]
    },
    {
     "data": {
      "text/plain": [
       "<tensorflow.python.keras.callbacks.History at 0x220bff4c040>"
      ]
     },
     "execution_count": 11,
     "metadata": {},
     "output_type": "execute_result"
    }
   ],
   "source": [
    "# compiling the ANN\n",
    "# binary classification: binary_crossentropy; non-binary: categorical_crossentropy\n",
    "ann.compile(optimizer='adam', loss='binary_crossentropy', metrics=['accuracy'])\n",
    "\n",
    "ann.fit(X_train, y_train, batch_size=32, epochs=100)"
   ]
  },
  {
   "cell_type": "markdown",
   "id": "9be086fe",
   "metadata": {},
   "source": [
    "---"
   ]
  },
  {
   "cell_type": "markdown",
   "id": "cc9d158f",
   "metadata": {},
   "source": [
    "Predicting a single observation"
   ]
  },
  {
   "cell_type": "code",
   "execution_count": 12,
   "id": "ef5686ec",
   "metadata": {},
   "outputs": [
    {
     "name": "stdout",
     "output_type": "stream",
     "text": [
      "[[False]]\n"
     ]
    }
   ],
   "source": [
    "# Dummy data: France, 600, Male, 40, 3, 60000, 2, 1, 1, 50000\n",
    "# we set threshold as 0.5; >0.5=1; <0.5=0\n",
    "print(ann.predict(sc.transform([[1.0, 0.0, 0.0, 600, 1, 40, 3, 60000, 2, 1, 1, 50000]])) > 0.5)"
   ]
  },
  {
   "cell_type": "markdown",
   "id": "c3585383",
   "metadata": {},
   "source": [
    "---"
   ]
  },
  {
   "cell_type": "markdown",
   "id": "abdfde10",
   "metadata": {},
   "source": [
    "Predicting the Test set result and evaluating the model"
   ]
  },
  {
   "cell_type": "code",
   "execution_count": 13,
   "id": "36f6a618",
   "metadata": {},
   "outputs": [
    {
     "name": "stdout",
     "output_type": "stream",
     "text": [
      "[[False]\n",
      " [False]\n",
      " [False]\n",
      " ...\n",
      " [False]\n",
      " [False]\n",
      " [False]]\n"
     ]
    }
   ],
   "source": [
    "y_pred = ann.predict(X_test) > 0.5\n",
    "print(y_pred)"
   ]
  },
  {
   "cell_type": "code",
   "execution_count": 14,
   "id": "ddb0e3be",
   "metadata": {},
   "outputs": [
    {
     "name": "stdout",
     "output_type": "stream",
     "text": [
      "[[0 0]\n",
      " [0 0]\n",
      " [0 0]\n",
      " ...\n",
      " [0 0]\n",
      " [0 0]\n",
      " [0 0]]\n"
     ]
    }
   ],
   "source": [
    "print(np.concatenate((y_pred.reshape(-1,1), y_test.reshape(-1,1)),1))"
   ]
  },
  {
   "cell_type": "markdown",
   "id": "6e801218",
   "metadata": {},
   "source": [
    "---"
   ]
  },
  {
   "cell_type": "markdown",
   "id": "bcd34ece",
   "metadata": {},
   "source": [
    "Making the Confusion Matrix"
   ]
  },
  {
   "cell_type": "code",
   "execution_count": 15,
   "id": "22540f0f",
   "metadata": {},
   "outputs": [
    {
     "name": "stdout",
     "output_type": "stream",
     "text": [
      "[[1527   58]\n",
      " [ 213  202]]\n"
     ]
    },
    {
     "data": {
      "text/plain": [
       "0.8645"
      ]
     },
     "execution_count": 15,
     "metadata": {},
     "output_type": "execute_result"
    }
   ],
   "source": [
    "from sklearn.metrics import confusion_matrix, accuracy_score\n",
    "cm = confusion_matrix(y_test, y_pred)\n",
    "print(cm)\n",
    "accuracy_score(y_test, y_pred)"
   ]
  },
  {
   "cell_type": "code",
   "execution_count": null,
   "id": "b4b9b032",
   "metadata": {},
   "outputs": [],
   "source": []
  }
 ],
 "metadata": {
  "kernelspec": {
   "display_name": "Python 3",
   "language": "python",
   "name": "python3"
  },
  "language_info": {
   "codemirror_mode": {
    "name": "ipython",
    "version": 3
   },
   "file_extension": ".py",
   "mimetype": "text/x-python",
   "name": "python",
   "nbconvert_exporter": "python",
   "pygments_lexer": "ipython3",
   "version": "3.8.8"
  }
 },
 "nbformat": 4,
 "nbformat_minor": 5
}
